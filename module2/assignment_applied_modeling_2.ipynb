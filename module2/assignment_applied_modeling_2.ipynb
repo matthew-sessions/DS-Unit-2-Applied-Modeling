{
  "nbformat": 4,
  "nbformat_minor": 0,
  "metadata": {
    "colab": {
      "name": "assignment_applied_modeling_2.ipynb",
      "provenance": [],
      "collapsed_sections": []
    },
    "kernelspec": {
      "display_name": "Python 3",
      "language": "python",
      "name": "python3"
    },
    "language_info": {
      "codemirror_mode": {
        "name": "ipython",
        "version": 3
      },
      "file_extension": ".py",
      "mimetype": "text/x-python",
      "name": "python",
      "nbconvert_exporter": "python",
      "pygments_lexer": "ipython3",
      "version": "3.7.3"
    }
  },
  "cells": [
    {
      "cell_type": "markdown",
      "metadata": {
        "colab_type": "text",
        "id": "nCc3XZEyG3XV"
      },
      "source": [
        "Lambda School Data Science, Unit 2: Predictive Modeling\n",
        "\n",
        "# Applied Modeling, Module 2\n",
        "\n",
        "You will use your portfolio project dataset for all assignments this sprint.\n",
        "\n",
        "## Assignment\n",
        "\n",
        "Complete these tasks for your project, and document your work.\n",
        "\n",
        "- [ ] Plot the distribution of your target. \n",
        "    - Classification problem: Are your classes imbalanced? Then, don't use just accuracy.\n",
        "    - Regression problem: Is your target skewed? If so, let's discuss in Slack.\n",
        "- [ ] Continue to clean and explore your data. Make exploratory visualizations.\n",
        "- [ ] Fit a model. Does it beat your baseline?\n",
        "- [ ] Try xgboost.\n",
        "- [ ] Get your model's permutation importances.\n",
        "\n",
        "You should try to complete an initial model today, because the rest of the week, we're making model interpretation visualizations.\n",
        "\n",
        "\n",
        "## Reading\n",
        "\n",
        "Top recommendations in _**bold italic:**_\n",
        "\n",
        "#### Permutation Importances\n",
        "- _**[Kaggle / Dan Becker: Machine Learning Explainability](https://www.kaggle.com/dansbecker/permutation-importance)**_\n",
        "- [Christoph Molnar: Interpretable Machine Learning](https://christophm.github.io/interpretable-ml-book/feature-importance.html)\n",
        "\n",
        "#### (Default) Feature Importances\n",
        "  - [Ando Saabas: Selecting good features, Part 3, Random Forests](https://blog.datadive.net/selecting-good-features-part-iii-random-forests/)\n",
        "  - [Terence Parr, et al: Beware Default Random Forest Importances](https://explained.ai/rf-importance/index.html)\n",
        "\n",
        "#### Gradient Boosting\n",
        "  - [A Gentle Introduction to the Gradient Boosting Algorithm for Machine Learning](https://machinelearningmastery.com/gentle-introduction-gradient-boosting-algorithm-machine-learning/)\n",
        "  - _**[A Kaggle Master Explains Gradient Boosting](http://blog.kaggle.com/2017/01/23/a-kaggle-master-explains-gradient-boosting/)**_\n",
        "  - [_An Introduction to Statistical Learning_](http://www-bcf.usc.edu/~gareth/ISL/ISLR%20Seventh%20Printing.pdf) Chapter 8\n",
        "  - [Gradient Boosting Explained](http://arogozhnikov.github.io/2016/06/24/gradient_boosting_explained.html)\n",
        "  - _**[Boosting](https://www.youtube.com/watch?v=GM3CDQfQ4sw) (2.5 minute video)**_"
      ]
    },
    {
      "cell_type": "code",
      "metadata": {
        "id": "l97JI0TfEmZZ",
        "colab_type": "code",
        "colab": {}
      },
      "source": [
        "lat, lon = 6.75189646, -75.19042969\n",
        "year = 2010\n",
        "api_key = 'OjVCw5oOv4BRmcldYUf4RIQrWrgIfbRMXISJubzX'\n",
        "attributes = 'ghi,dhi,dni,wind_speed,air_temperature,solar_zenith_angle,wind_speed,cloud_type,fill_flag,relative_humidity,surface_albedo,surface_pressure,wind_direction,dew_point'\n",
        "\n",
        "leap_year = 'false'\n",
        "interval = '30'\n",
        "utc = 'true'\n",
        "your_name = 'John+Smith'\n",
        "reason_for_use = 'beta+testing'\n",
        "your_affiliation = 'my+institution'\n",
        "\n",
        "your_email = 'matthewlsessions@gmail.com'\n",
        "mailing_list = 'true'\n",
        "\n",
        "import pandas as pd\n",
        "\n",
        "year = '2010'\n",
        "\n",
        "df1 = pd.read_csv('http://developer.nrel.gov/api/solar/nsrdb_psm3_download.csv?wkt=POINT({lon}%20{lat})&names={year}&leap_day={leap}&interval={interval}&utc={utc}&full_name={name}&email={email}&affiliation={affiliation}&mailing_list={mailing_list}&reason={reason}&api_key={api}&attributes={attr}'.format(year=year, lat=lat, lon=lon, leap=leap_year, interval=interval, utc=utc, name=your_name, email=your_email, mailing_list=mailing_list, affiliation=your_affiliation, reason=reason_for_use, api=api_key, attr=attributes), skiprows=2)\n",
        "\n",
        "\n",
        "df1 = df1.set_index(pd.date_range('1/1/{yr}'.format(yr=year), freq=interval+'Min', periods=525600/int(interval)))\n",
        "\n",
        "\n",
        "year = '2011'\n",
        "\n",
        "df2 = pd.read_csv('http://developer.nrel.gov/api/solar/nsrdb_psm3_download.csv?wkt=POINT({lon}%20{lat})&names={year}&leap_day={leap}&interval={interval}&utc={utc}&full_name={name}&email={email}&affiliation={affiliation}&mailing_list={mailing_list}&reason={reason}&api_key={api}&attributes={attr}'.format(year=year, lat=lat, lon=lon, leap=leap_year, interval=interval, utc=utc, name=your_name, email=your_email, mailing_list=mailing_list, affiliation=your_affiliation, reason=reason_for_use, api=api_key, attr=attributes), skiprows=2)\n",
        "\n",
        "\n",
        "df2 = df2.set_index(pd.date_range('1/1/{yr}'.format(yr=year), freq=interval+'Min', periods=525600/int(interval)))\n",
        "\n",
        "df1 = pd.concat([df1,df2])"
      ],
      "execution_count": 0,
      "outputs": []
    },
    {
      "cell_type": "code",
      "metadata": {
        "id": "ikczmqPmEpA5",
        "colab_type": "code",
        "colab": {}
      },
      "source": [
        "lat, lon, year = 6.75189646, -75.19042969, 2012\n",
        "year = '2012'\n",
        "leap_year = 'true'\n",
        "dfl = pd.read_csv('http://developer.nrel.gov/api/solar/nsrdb_psm3_download.csv?wkt=POINT({lon}%20{lat})&names={year}&leap_day={leap}&interval={interval}&utc={utc}&full_name={name}&email={email}&affiliation={affiliation}&mailing_list={mailing_list}&reason={reason}&api_key={api}&attributes={attr}'.format(year=year, lat=lat, lon=lon, leap=leap_year, interval=interval, utc=utc, name=your_name, email=your_email, mailing_list=mailing_list, affiliation=your_affiliation, reason=reason_for_use, api=api_key, attr=attributes), skiprows=2)\n",
        "\n",
        "\n",
        "dfl = dfl.set_index(pd.date_range('1/1/{yr}'.format(yr=year), freq=interval+'Min', periods=527040/int(interval)))\n",
        "\n",
        "df1 = pd.concat([df1,dfl])"
      ],
      "execution_count": 0,
      "outputs": []
    },
    {
      "cell_type": "code",
      "metadata": {
        "id": "e0OdW1H8FIQ4",
        "colab_type": "code",
        "colab": {}
      },
      "source": [
        "year = '2013'\n",
        "lat, lon, year = 6.75189646, -75.19042969, 2013\n",
        "leap_year = 'false'\n",
        "df3 = pd.read_csv('http://developer.nrel.gov/api/solar/nsrdb_psm3_download.csv?wkt=POINT({lon}%20{lat})&names={year}&leap_day={leap}&interval={interval}&utc={utc}&full_name={name}&email={email}&affiliation={affiliation}&mailing_list={mailing_list}&reason={reason}&api_key={api}&attributes={attr}'.format(year=year, lat=lat, lon=lon, leap=leap_year, interval=interval, utc=utc, name=your_name, email=your_email, mailing_list=mailing_list, affiliation=your_affiliation, reason=reason_for_use, api=api_key, attr=attributes), skiprows=2)\n",
        "\n",
        "\n",
        "df3 = df3.set_index(pd.date_range('1/1/{yr}'.format(yr=year), freq=interval+'Min', periods=525600/int(interval)))\n",
        "\n",
        "df1 = pd.concat([df1,df3])"
      ],
      "execution_count": 0,
      "outputs": []
    },
    {
      "cell_type": "code",
      "metadata": {
        "id": "LEnBRZ3SFnbI",
        "colab_type": "code",
        "colab": {}
      },
      "source": [
        "year = '2014'\n",
        "\n",
        "df4 = pd.read_csv('http://developer.nrel.gov/api/solar/nsrdb_psm3_download.csv?wkt=POINT({lon}%20{lat})&names={year}&leap_day={leap}&interval={interval}&utc={utc}&full_name={name}&email={email}&affiliation={affiliation}&mailing_list={mailing_list}&reason={reason}&api_key={api}&attributes={attr}'.format(year=year, lat=lat, lon=lon, leap=leap_year, interval=interval, utc=utc, name=your_name, email=your_email, mailing_list=mailing_list, affiliation=your_affiliation, reason=reason_for_use, api=api_key, attr=attributes), skiprows=2)\n",
        "\n",
        "\n",
        "df4 = df4.set_index(pd.date_range('1/1/{yr}'.format(yr=year), freq=interval+'Min', periods=525600/int(interval)))\n",
        "\n",
        "df1 = pd.concat([df1,df4])"
      ],
      "execution_count": 0,
      "outputs": []
    },
    {
      "cell_type": "code",
      "metadata": {
        "id": "VgGizY7sGCYE",
        "colab_type": "code",
        "colab": {
          "base_uri": "https://localhost:8080/",
          "height": 296
        },
        "outputId": "0f0f85a7-358d-4d14-beef-793a934904ed"
      },
      "source": [
        "df1.tail()"
      ],
      "execution_count": 15,
      "outputs": [
        {
          "output_type": "execute_result",
          "data": {
            "text/html": [
              "<div>\n",
              "<style scoped>\n",
              "    .dataframe tbody tr th:only-of-type {\n",
              "        vertical-align: middle;\n",
              "    }\n",
              "\n",
              "    .dataframe tbody tr th {\n",
              "        vertical-align: top;\n",
              "    }\n",
              "\n",
              "    .dataframe thead th {\n",
              "        text-align: right;\n",
              "    }\n",
              "</style>\n",
              "<table border=\"1\" class=\"dataframe\">\n",
              "  <thead>\n",
              "    <tr style=\"text-align: right;\">\n",
              "      <th></th>\n",
              "      <th>Year</th>\n",
              "      <th>Month</th>\n",
              "      <th>Day</th>\n",
              "      <th>Hour</th>\n",
              "      <th>Minute</th>\n",
              "      <th>GHI</th>\n",
              "      <th>DHI</th>\n",
              "      <th>DNI</th>\n",
              "      <th>Wind Speed</th>\n",
              "      <th>Temperature</th>\n",
              "      <th>Solar Zenith Angle</th>\n",
              "      <th>Cloud Type</th>\n",
              "      <th>Fill Flag</th>\n",
              "      <th>Relative Humidity</th>\n",
              "      <th>Surface Albedo</th>\n",
              "      <th>Pressure</th>\n",
              "      <th>Wind Direction</th>\n",
              "      <th>Dew Point</th>\n",
              "    </tr>\n",
              "  </thead>\n",
              "  <tbody>\n",
              "    <tr>\n",
              "      <th>2014-12-31 21:30:00</th>\n",
              "      <td>2014</td>\n",
              "      <td>12</td>\n",
              "      <td>31</td>\n",
              "      <td>21</td>\n",
              "      <td>30</td>\n",
              "      <td>147</td>\n",
              "      <td>130</td>\n",
              "      <td>54</td>\n",
              "      <td>0.0</td>\n",
              "      <td>22</td>\n",
              "      <td>71.47</td>\n",
              "      <td>3</td>\n",
              "      <td>0</td>\n",
              "      <td>85.14</td>\n",
              "      <td>0.162</td>\n",
              "      <td>850.0</td>\n",
              "      <td>11.2</td>\n",
              "      <td>19</td>\n",
              "    </tr>\n",
              "    <tr>\n",
              "      <th>2014-12-31 22:00:00</th>\n",
              "      <td>2014</td>\n",
              "      <td>12</td>\n",
              "      <td>31</td>\n",
              "      <td>22</td>\n",
              "      <td>0</td>\n",
              "      <td>65</td>\n",
              "      <td>65</td>\n",
              "      <td>0</td>\n",
              "      <td>0.1</td>\n",
              "      <td>21</td>\n",
              "      <td>78.15</td>\n",
              "      <td>3</td>\n",
              "      <td>0</td>\n",
              "      <td>90.14</td>\n",
              "      <td>0.162</td>\n",
              "      <td>850.0</td>\n",
              "      <td>325.5</td>\n",
              "      <td>20</td>\n",
              "    </tr>\n",
              "    <tr>\n",
              "      <th>2014-12-31 22:30:00</th>\n",
              "      <td>2014</td>\n",
              "      <td>12</td>\n",
              "      <td>31</td>\n",
              "      <td>22</td>\n",
              "      <td>30</td>\n",
              "      <td>22</td>\n",
              "      <td>22</td>\n",
              "      <td>0</td>\n",
              "      <td>0.1</td>\n",
              "      <td>20</td>\n",
              "      <td>84.92</td>\n",
              "      <td>3</td>\n",
              "      <td>4</td>\n",
              "      <td>95.84</td>\n",
              "      <td>0.162</td>\n",
              "      <td>850.0</td>\n",
              "      <td>325.5</td>\n",
              "      <td>20</td>\n",
              "    </tr>\n",
              "    <tr>\n",
              "      <th>2014-12-31 23:00:00</th>\n",
              "      <td>2014</td>\n",
              "      <td>12</td>\n",
              "      <td>31</td>\n",
              "      <td>23</td>\n",
              "      <td>0</td>\n",
              "      <td>0</td>\n",
              "      <td>0</td>\n",
              "      <td>0</td>\n",
              "      <td>0.1</td>\n",
              "      <td>19</td>\n",
              "      <td>91.75</td>\n",
              "      <td>1</td>\n",
              "      <td>0</td>\n",
              "      <td>100.00</td>\n",
              "      <td>0.162</td>\n",
              "      <td>850.0</td>\n",
              "      <td>288.2</td>\n",
              "      <td>20</td>\n",
              "    </tr>\n",
              "    <tr>\n",
              "      <th>2014-12-31 23:30:00</th>\n",
              "      <td>2014</td>\n",
              "      <td>12</td>\n",
              "      <td>31</td>\n",
              "      <td>23</td>\n",
              "      <td>30</td>\n",
              "      <td>0</td>\n",
              "      <td>0</td>\n",
              "      <td>0</td>\n",
              "      <td>0.1</td>\n",
              "      <td>19</td>\n",
              "      <td>98.62</td>\n",
              "      <td>0</td>\n",
              "      <td>0</td>\n",
              "      <td>100.00</td>\n",
              "      <td>0.162</td>\n",
              "      <td>850.0</td>\n",
              "      <td>288.2</td>\n",
              "      <td>20</td>\n",
              "    </tr>\n",
              "  </tbody>\n",
              "</table>\n",
              "</div>"
            ],
            "text/plain": [
              "                     Year  Month  Day  ...  Pressure  Wind Direction  Dew Point\n",
              "2014-12-31 21:30:00  2014     12   31  ...     850.0            11.2         19\n",
              "2014-12-31 22:00:00  2014     12   31  ...     850.0           325.5         20\n",
              "2014-12-31 22:30:00  2014     12   31  ...     850.0           325.5         20\n",
              "2014-12-31 23:00:00  2014     12   31  ...     850.0           288.2         20\n",
              "2014-12-31 23:30:00  2014     12   31  ...     850.0           288.2         20\n",
              "\n",
              "[5 rows x 18 columns]"
            ]
          },
          "metadata": {
            "tags": []
          },
          "execution_count": 15
        }
      ]
    },
    {
      "cell_type": "code",
      "metadata": {
        "id": "88-JbAOFG82X",
        "colab_type": "code",
        "colab": {
          "base_uri": "https://localhost:8080/",
          "height": 296
        },
        "outputId": "2fd0bb90-0d1a-4708-c366-a4fc4efa7e83"
      },
      "source": [
        "year = 2015\n",
        "\n",
        "df5 = pd.read_csv('http://developer.nrel.gov/api/solar/nsrdb_psm3_download.csv?wkt=POINT({lon}%20{lat})&names={year}&leap_day={leap}&interval={interval}&utc={utc}&full_name={name}&email={email}&affiliation={affiliation}&mailing_list={mailing_list}&reason={reason}&api_key={api}&attributes={attr}'.format(year=year, lat=lat, lon=lon, leap=leap_year, interval=interval, utc=utc, name=your_name, email=your_email, mailing_list=mailing_list, affiliation=your_affiliation, reason=reason_for_use, api=api_key, attr=attributes), skiprows=2)\n",
        "\n",
        "\n",
        "df5 = df5.set_index(pd.date_range('1/1/{yr}'.format(yr=year), freq=interval+'Min', periods=525600/int(interval)))\n",
        "\n",
        "df1 = pd.concat([df1,df5])\n",
        "df1.tail()"
      ],
      "execution_count": 16,
      "outputs": [
        {
          "output_type": "execute_result",
          "data": {
            "text/html": [
              "<div>\n",
              "<style scoped>\n",
              "    .dataframe tbody tr th:only-of-type {\n",
              "        vertical-align: middle;\n",
              "    }\n",
              "\n",
              "    .dataframe tbody tr th {\n",
              "        vertical-align: top;\n",
              "    }\n",
              "\n",
              "    .dataframe thead th {\n",
              "        text-align: right;\n",
              "    }\n",
              "</style>\n",
              "<table border=\"1\" class=\"dataframe\">\n",
              "  <thead>\n",
              "    <tr style=\"text-align: right;\">\n",
              "      <th></th>\n",
              "      <th>Year</th>\n",
              "      <th>Month</th>\n",
              "      <th>Day</th>\n",
              "      <th>Hour</th>\n",
              "      <th>Minute</th>\n",
              "      <th>GHI</th>\n",
              "      <th>DHI</th>\n",
              "      <th>DNI</th>\n",
              "      <th>Wind Speed</th>\n",
              "      <th>Temperature</th>\n",
              "      <th>Solar Zenith Angle</th>\n",
              "      <th>Cloud Type</th>\n",
              "      <th>Fill Flag</th>\n",
              "      <th>Relative Humidity</th>\n",
              "      <th>Surface Albedo</th>\n",
              "      <th>Pressure</th>\n",
              "      <th>Wind Direction</th>\n",
              "      <th>Dew Point</th>\n",
              "    </tr>\n",
              "  </thead>\n",
              "  <tbody>\n",
              "    <tr>\n",
              "      <th>2015-12-31 21:30:00</th>\n",
              "      <td>2015</td>\n",
              "      <td>12</td>\n",
              "      <td>31</td>\n",
              "      <td>21</td>\n",
              "      <td>30</td>\n",
              "      <td>273</td>\n",
              "      <td>80</td>\n",
              "      <td>607</td>\n",
              "      <td>0.1</td>\n",
              "      <td>25</td>\n",
              "      <td>71.50</td>\n",
              "      <td>0</td>\n",
              "      <td>0</td>\n",
              "      <td>67.53</td>\n",
              "      <td>0.166</td>\n",
              "      <td>850.0</td>\n",
              "      <td>349.1</td>\n",
              "      <td>18</td>\n",
              "    </tr>\n",
              "    <tr>\n",
              "      <th>2015-12-31 22:00:00</th>\n",
              "      <td>2015</td>\n",
              "      <td>12</td>\n",
              "      <td>31</td>\n",
              "      <td>22</td>\n",
              "      <td>0</td>\n",
              "      <td>153</td>\n",
              "      <td>65</td>\n",
              "      <td>426</td>\n",
              "      <td>0.1</td>\n",
              "      <td>24</td>\n",
              "      <td>78.18</td>\n",
              "      <td>0</td>\n",
              "      <td>0</td>\n",
              "      <td>76.63</td>\n",
              "      <td>0.166</td>\n",
              "      <td>850.0</td>\n",
              "      <td>328.7</td>\n",
              "      <td>19</td>\n",
              "    </tr>\n",
              "    <tr>\n",
              "      <th>2015-12-31 22:30:00</th>\n",
              "      <td>2015</td>\n",
              "      <td>12</td>\n",
              "      <td>31</td>\n",
              "      <td>22</td>\n",
              "      <td>30</td>\n",
              "      <td>50</td>\n",
              "      <td>34</td>\n",
              "      <td>182</td>\n",
              "      <td>0.0</td>\n",
              "      <td>23</td>\n",
              "      <td>84.95</td>\n",
              "      <td>1</td>\n",
              "      <td>0</td>\n",
              "      <td>81.41</td>\n",
              "      <td>0.166</td>\n",
              "      <td>850.0</td>\n",
              "      <td>328.7</td>\n",
              "      <td>19</td>\n",
              "    </tr>\n",
              "    <tr>\n",
              "      <th>2015-12-31 23:00:00</th>\n",
              "      <td>2015</td>\n",
              "      <td>12</td>\n",
              "      <td>31</td>\n",
              "      <td>23</td>\n",
              "      <td>0</td>\n",
              "      <td>0</td>\n",
              "      <td>0</td>\n",
              "      <td>0</td>\n",
              "      <td>0.0</td>\n",
              "      <td>22</td>\n",
              "      <td>91.78</td>\n",
              "      <td>0</td>\n",
              "      <td>0</td>\n",
              "      <td>84.25</td>\n",
              "      <td>0.166</td>\n",
              "      <td>850.0</td>\n",
              "      <td>304.9</td>\n",
              "      <td>20</td>\n",
              "    </tr>\n",
              "    <tr>\n",
              "      <th>2015-12-31 23:30:00</th>\n",
              "      <td>2015</td>\n",
              "      <td>12</td>\n",
              "      <td>31</td>\n",
              "      <td>23</td>\n",
              "      <td>30</td>\n",
              "      <td>0</td>\n",
              "      <td>0</td>\n",
              "      <td>0</td>\n",
              "      <td>0.0</td>\n",
              "      <td>22</td>\n",
              "      <td>98.65</td>\n",
              "      <td>0</td>\n",
              "      <td>0</td>\n",
              "      <td>84.25</td>\n",
              "      <td>0.166</td>\n",
              "      <td>850.0</td>\n",
              "      <td>304.9</td>\n",
              "      <td>20</td>\n",
              "    </tr>\n",
              "  </tbody>\n",
              "</table>\n",
              "</div>"
            ],
            "text/plain": [
              "                     Year  Month  Day  ...  Pressure  Wind Direction  Dew Point\n",
              "2015-12-31 21:30:00  2015     12   31  ...     850.0           349.1         18\n",
              "2015-12-31 22:00:00  2015     12   31  ...     850.0           328.7         19\n",
              "2015-12-31 22:30:00  2015     12   31  ...     850.0           328.7         19\n",
              "2015-12-31 23:00:00  2015     12   31  ...     850.0           304.9         20\n",
              "2015-12-31 23:30:00  2015     12   31  ...     850.0           304.9         20\n",
              "\n",
              "[5 rows x 18 columns]"
            ]
          },
          "metadata": {
            "tags": []
          },
          "execution_count": 16
        }
      ]
    },
    {
      "cell_type": "code",
      "metadata": {
        "id": "uTJ9JOJ6Hdui",
        "colab_type": "code",
        "colab": {
          "base_uri": "https://localhost:8080/",
          "height": 84
        },
        "outputId": "e9487fb1-39e4-4c4b-8a0b-0799a4849588"
      },
      "source": [
        "!pip install pysolar"
      ],
      "execution_count": 17,
      "outputs": [
        {
          "output_type": "stream",
          "text": [
            "Collecting pysolar\n",
            "  Downloading https://files.pythonhosted.org/packages/3d/54/b208fbc6bcf2e8e4386545db197b40c17c2901e2c9043a18b675ef85dc4e/pysolar-0.8-py3-none-any.whl\n",
            "Installing collected packages: pysolar\n",
            "Successfully installed pysolar-0.8\n"
          ],
          "name": "stdout"
        }
      ]
    },
    {
      "cell_type": "code",
      "metadata": {
        "id": "TFN3R1jhHRZE",
        "colab_type": "code",
        "colab": {
          "base_uri": "https://localhost:8080/",
          "height": 34
        },
        "outputId": "5b9a2903-c918-4fee-a743-468428f822b5"
      },
      "source": [
        "from pysolar.solar import *\n",
        "\n",
        "date = datetime.datetime(2015, 12, 31, 23, 30, tzinfo=datetime.timezone.utc)\n",
        "float(90) - get_altitude(6.75189646, -75.19042969, date)"
      ],
      "execution_count": 19,
      "outputs": [
        {
          "output_type": "execute_result",
          "data": {
            "text/plain": [
              "98.64295895125696"
            ]
          },
          "metadata": {
            "tags": []
          },
          "execution_count": 19
        }
      ]
    },
    {
      "cell_type": "code",
      "metadata": {
        "id": "rpcgiFGWHlhT",
        "colab_type": "code",
        "colab": {}
      },
      "source": [
        "year = '2016'\n",
        "leap_year = 'true'\n",
        "test = pd.read_csv('http://developer.nrel.gov/api/solar/nsrdb_psm3_download.csv?wkt=POINT({lon}%20{lat})&names={year}&leap_day={leap}&interval={interval}&utc={utc}&full_name={name}&email={email}&affiliation={affiliation}&mailing_list={mailing_list}&reason={reason}&api_key={api}&attributes={attr}'.format(year=year, lat=lat, lon=lon, leap=leap_year, interval=interval, utc=utc, name=your_name, email=your_email, mailing_list=mailing_list, affiliation=your_affiliation, reason=reason_for_use, api=api_key, attr=attributes), skiprows=2)\n",
        "\n",
        "\n",
        "test = test.set_index(pd.date_range('1/1/{yr}'.format(yr=year), freq=interval+'Min', periods=527040/int(interval)))"
      ],
      "execution_count": 0,
      "outputs": []
    },
    {
      "cell_type": "code",
      "metadata": {
        "id": "8y7WXgS0IC4L",
        "colab_type": "code",
        "colab": {
          "base_uri": "https://localhost:8080/",
          "height": 203
        },
        "outputId": "a9e36970-e061-4671-ed2a-ca9798958bbe"
      },
      "source": [
        "test.head(3)"
      ],
      "execution_count": 32,
      "outputs": [
        {
          "output_type": "execute_result",
          "data": {
            "text/html": [
              "<div>\n",
              "<style scoped>\n",
              "    .dataframe tbody tr th:only-of-type {\n",
              "        vertical-align: middle;\n",
              "    }\n",
              "\n",
              "    .dataframe tbody tr th {\n",
              "        vertical-align: top;\n",
              "    }\n",
              "\n",
              "    .dataframe thead th {\n",
              "        text-align: right;\n",
              "    }\n",
              "</style>\n",
              "<table border=\"1\" class=\"dataframe\">\n",
              "  <thead>\n",
              "    <tr style=\"text-align: right;\">\n",
              "      <th></th>\n",
              "      <th>Year</th>\n",
              "      <th>Month</th>\n",
              "      <th>Day</th>\n",
              "      <th>Hour</th>\n",
              "      <th>Minute</th>\n",
              "      <th>GHI</th>\n",
              "      <th>DHI</th>\n",
              "      <th>DNI</th>\n",
              "      <th>Wind Speed</th>\n",
              "      <th>Temperature</th>\n",
              "      <th>Solar Zenith Angle</th>\n",
              "      <th>Cloud Type</th>\n",
              "      <th>Fill Flag</th>\n",
              "      <th>Relative Humidity</th>\n",
              "      <th>Surface Albedo</th>\n",
              "      <th>Pressure</th>\n",
              "      <th>Wind Direction</th>\n",
              "      <th>Dew Point</th>\n",
              "    </tr>\n",
              "  </thead>\n",
              "  <tbody>\n",
              "    <tr>\n",
              "      <th>2016-01-01 00:00:00</th>\n",
              "      <td>2016</td>\n",
              "      <td>1</td>\n",
              "      <td>1</td>\n",
              "      <td>0</td>\n",
              "      <td>0</td>\n",
              "      <td>0</td>\n",
              "      <td>0</td>\n",
              "      <td>0</td>\n",
              "      <td>0.0</td>\n",
              "      <td>21</td>\n",
              "      <td>105.54</td>\n",
              "      <td>3</td>\n",
              "      <td>0</td>\n",
              "      <td>91.70</td>\n",
              "      <td>0.162</td>\n",
              "      <td>850.0</td>\n",
              "      <td>288.7</td>\n",
              "      <td>20</td>\n",
              "    </tr>\n",
              "    <tr>\n",
              "      <th>2016-01-01 00:30:00</th>\n",
              "      <td>2016</td>\n",
              "      <td>1</td>\n",
              "      <td>1</td>\n",
              "      <td>0</td>\n",
              "      <td>30</td>\n",
              "      <td>0</td>\n",
              "      <td>0</td>\n",
              "      <td>0</td>\n",
              "      <td>0.0</td>\n",
              "      <td>20</td>\n",
              "      <td>112.44</td>\n",
              "      <td>1</td>\n",
              "      <td>0</td>\n",
              "      <td>97.51</td>\n",
              "      <td>0.162</td>\n",
              "      <td>850.0</td>\n",
              "      <td>288.7</td>\n",
              "      <td>20</td>\n",
              "    </tr>\n",
              "    <tr>\n",
              "      <th>2016-01-01 01:00:00</th>\n",
              "      <td>2016</td>\n",
              "      <td>1</td>\n",
              "      <td>1</td>\n",
              "      <td>1</td>\n",
              "      <td>0</td>\n",
              "      <td>0</td>\n",
              "      <td>0</td>\n",
              "      <td>0</td>\n",
              "      <td>0.0</td>\n",
              "      <td>20</td>\n",
              "      <td>119.32</td>\n",
              "      <td>1</td>\n",
              "      <td>0</td>\n",
              "      <td>98.16</td>\n",
              "      <td>0.162</td>\n",
              "      <td>850.0</td>\n",
              "      <td>271.0</td>\n",
              "      <td>20</td>\n",
              "    </tr>\n",
              "  </tbody>\n",
              "</table>\n",
              "</div>"
            ],
            "text/plain": [
              "                     Year  Month  Day  ...  Pressure  Wind Direction  Dew Point\n",
              "2016-01-01 00:00:00  2016      1    1  ...     850.0           288.7         20\n",
              "2016-01-01 00:30:00  2016      1    1  ...     850.0           288.7         20\n",
              "2016-01-01 01:00:00  2016      1    1  ...     850.0           271.0         20\n",
              "\n",
              "[3 rows x 18 columns]"
            ]
          },
          "metadata": {
            "tags": []
          },
          "execution_count": 32
        }
      ]
    },
    {
      "cell_type": "code",
      "metadata": {
        "id": "8YwrVIJJIeDq",
        "colab_type": "code",
        "colab": {}
      },
      "source": [
        "dist = df1.copy()"
      ],
      "execution_count": 0,
      "outputs": []
    },
    {
      "cell_type": "code",
      "metadata": {
        "id": "F9dKad_dIglU",
        "colab_type": "code",
        "colab": {}
      },
      "source": [
        "dist = dist[dist.GHI > 40]"
      ],
      "execution_count": 0,
      "outputs": []
    },
    {
      "cell_type": "code",
      "metadata": {
        "id": "sRwJ5IKSIEup",
        "colab_type": "code",
        "colab": {
          "base_uri": "https://localhost:8080/",
          "height": 300
        },
        "outputId": "3a58cdf0-ebf5-415a-b154-12dea7ed47a9"
      },
      "source": [
        "import seaborn as sns\n",
        "\n",
        "sns.distplot(dist.GHI)"
      ],
      "execution_count": 29,
      "outputs": [
        {
          "output_type": "execute_result",
          "data": {
            "text/plain": [
              "<matplotlib.axes._subplots.AxesSubplot at 0x7fe6ce2cf588>"
            ]
          },
          "metadata": {
            "tags": []
          },
          "execution_count": 29
        },
        {
          "output_type": "display_data",
          "data": {
            "image/png": "[encoded data removed]",
            "text/plain": [
              "<Figure size 432x288 with 1 Axes>"
            ]
          },
          "metadata": {
            "tags": []
          }
        }
      ]
    },
    {
      "cell_type": "code",
      "metadata": {
        "id": "osVbhsXkJoeu",
        "colab_type": "code",
        "colab": {}
      },
      "source": [
        "features = ['Wind Speed','Temperature','Solar Zenith Angle','Pressure','Surface Albedo']\n",
        "target = 'GHI'"
      ],
      "execution_count": 0,
      "outputs": []
    },
    {
      "cell_type": "code",
      "metadata": {
        "id": "qdu127hCIZfA",
        "colab_type": "code",
        "colab": {}
      },
      "source": [
        "from xgboost import XGBRegressor\n",
        "\n",
        "boost = XGBRegressor(n_estimators=100, random_state=42, n_jobs=-1)\n"
      ],
      "execution_count": 0,
      "outputs": []
    },
    {
      "cell_type": "code",
      "metadata": {
        "id": "FFRUK7dDJ28r",
        "colab_type": "code",
        "colab": {}
      },
      "source": [
        "boost.fit(df1[features],df1[target])\n"
      ],
      "execution_count": 0,
      "outputs": []
    },
    {
      "cell_type": "code",
      "metadata": {
        "id": "kHf0fmkmKqm_",
        "colab_type": "code",
        "colab": {}
      },
      "source": [
        ""
      ],
      "execution_count": 0,
      "outputs": []
    },
    {
      "cell_type": "code",
      "metadata": {
        "id": "DpKSqFUpJ7Sz",
        "colab_type": "code",
        "colab": {}
      },
      "source": [
        "y_pred_train = boost.predict(df1[features])\n",
        "\n",
        "print(r2_score(df1[target],y_pred_train))\n",
        "print(mean_absolute_error(df1[target],y_pred_train))"
      ],
      "execution_count": 0,
      "outputs": []
    },
    {
      "cell_type": "code",
      "metadata": {
        "id": "ZSu9i5B1KCUR",
        "colab_type": "code",
        "colab": {}
      },
      "source": [
        "y_pred_test = boost.predict(test[features])\n",
        "\n",
        "print(r2_score(test[target],y_pred_test))\n",
        "print(mean_absolute_error(test[target],y_pred_test))"
      ],
      "execution_count": 0,
      "outputs": []
    },
    {
      "cell_type": "code",
      "metadata": {
        "id": "Y1qXMq15KFMD",
        "colab_type": "code",
        "colab": {}
      },
      "source": [
        ""
      ],
      "execution_count": 0,
      "outputs": []
    }
  ]
}